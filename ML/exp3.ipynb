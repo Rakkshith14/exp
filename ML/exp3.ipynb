{
  "nbformat": 4,
  "nbformat_minor": 0,
  "metadata": {
    "colab": {
      "provenance": []
    },
    "kernelspec": {
      "name": "python3",
      "display_name": "Python 3"
    },
    "language_info": {
      "name": "python"
    }
  },
  "cells": [
    {
      "cell_type": "code",
      "execution_count": null,
      "metadata": {
        "id": "weAWmCL72Fdu"
      },
      "outputs": [],
      "source": [
        "import numpy as np\n",
        "import pandas as pd\n",
        "import matplotlib.pyplot as plt"
      ]
    },
    {
      "cell_type": "code",
      "source": [
        "n= 5\n",
        "x1 = [1.5, 1.7, 0.8, 2.1, 0.6]\n",
        "x2 = [2.1, 1.9, 2.5, 1.4, 2.0]\n",
        "y= [1,0,1,1,0]\n"
      ],
      "metadata": {
        "id": "I4wf9FyO2QBJ"
      },
      "execution_count": null,
      "outputs": []
    },
    {
      "cell_type": "code",
      "source": [
        "b0, b1, b2 = 0.0, 0.0 ,0.0"
      ],
      "metadata": {
        "id": "C_BobiMy3F85"
      },
      "execution_count": null,
      "outputs": []
    },
    {
      "cell_type": "code",
      "source": [
        "p= []\n",
        "pc= []"
      ],
      "metadata": {
        "id": "qGZmX0zb3lxO"
      },
      "execution_count": null,
      "outputs": []
    },
    {
      "cell_type": "code",
      "source": [
        "print(x1, x2)"
      ],
      "metadata": {
        "colab": {
          "base_uri": "https://localhost:8080/"
        },
        "id": "QH8EfWn63pHG",
        "outputId": "8eaa05b5-328a-4fd9-cf42-923f69b0cfe5"
      },
      "execution_count": null,
      "outputs": [
        {
          "output_type": "stream",
          "name": "stdout",
          "text": [
            "[1.5, 1.7, 0.8, 2.1, 0.6] [2.1, 1.9, 2.5, 1.4, 2.0]\n"
          ]
        }
      ]
    },
    {
      "cell_type": "code",
      "source": [
        "print(y)"
      ],
      "metadata": {
        "colab": {
          "base_uri": "https://localhost:8080/"
        },
        "id": "dSyHeLSP33o3",
        "outputId": "35c45e5d-4258-47f7-8173-6d3e4c4250f8"
      },
      "execution_count": null,
      "outputs": [
        {
          "output_type": "stream",
          "name": "stdout",
          "text": [
            "[1, 0, 1, 1, 0]\n"
          ]
        }
      ]
    },
    {
      "cell_type": "code",
      "source": [
        "s = 0.6"
      ],
      "metadata": {
        "id": "Yp6Z3MFf36hu"
      },
      "execution_count": null,
      "outputs": []
    },
    {
      "cell_type": "code",
      "source": [
        "for i in range(n):\n",
        "  pred = 1/ (1 + np.exp(-(b0 + b1 * x1[i]\n",
        "                          + b2 * x2[i])))\n",
        "  p.append(pred)\n",
        "\n",
        "  b0 = b0 + (s*(y[i] - pred) * pred * (1 - pred))\n",
        "  b1 = b1 + (s*(y[i] - pred) * pred * (1 - pred) * x1[i])\n",
        "  b2 = b2 + (s*(y[i] - pred) * pred * (1 - pred) * x2[i])\n",
        "\n",
        "  if pred >= 0.5:\n",
        "    pc.append(1)\n",
        "  else:\n",
        "    pc.append(0)"
      ],
      "metadata": {
        "id": "NQ2pGOvA4M1G"
      },
      "execution_count": null,
      "outputs": []
    },
    {
      "cell_type": "code",
      "source": [
        "p"
      ],
      "metadata": {
        "id": "rX7P18Rr6mvg",
        "outputId": "e3668e69-98ac-49d3-c134-45a6e308c4e5",
        "colab": {
          "base_uri": "https://localhost:8080/"
        }
      },
      "execution_count": null,
      "outputs": [
        {
          "output_type": "execute_result",
          "data": {
            "text/plain": [
              "[0.5,\n",
              " 0.6377241766003305,\n",
              " 0.48256209141180895,\n",
              " 0.5918681190987192,\n",
              " 0.6780139277764855]"
            ]
          },
          "metadata": {},
          "execution_count": 12
        }
      ]
    },
    {
      "cell_type": "code",
      "source": [
        "pc"
      ],
      "metadata": {
        "id": "38UCiV596sHm",
        "outputId": "8f4e26ca-8de4-4307-882c-d5a36446986d",
        "colab": {
          "base_uri": "https://localhost:8080/"
        }
      },
      "execution_count": null,
      "outputs": [
        {
          "output_type": "execute_result",
          "data": {
            "text/plain": [
              "[1, 1, 0, 1, 1]"
            ]
          },
          "metadata": {},
          "execution_count": 13
        }
      ]
    },
    {
      "cell_type": "code",
      "source": [],
      "metadata": {
        "id": "e5sTs1Yj6tl2"
      },
      "execution_count": null,
      "outputs": []
    }
  ]
}