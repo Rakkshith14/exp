{
  "nbformat": 4,
  "nbformat_minor": 0,
  "metadata": {
    "colab": {
      "provenance": []
    },
    "kernelspec": {
      "name": "python3",
      "display_name": "Python 3"
    },
    "language_info": {
      "name": "python"
    }
  },
  "cells": [
    {
      "cell_type": "code",
      "execution_count": null,
      "metadata": {
        "id": "sJuib_uL9wAw"
      },
      "outputs": [],
      "source": [
        "def hebbian_learning(samples):\n",
        "    print(f'{\"INPUT\":^8} {\"TARGET\": ^16}{\"WEIGHT CHANGES \":^15}{\"WEIGHTS\":^28}')\n",
        "    w1, w2, b = 0, 0, 0\n",
        "    print('' *48, f'({w1:2}, {w2:2}, {b:2})')\n",
        "    for x1, x2, y in samples:\n",
        "        w1= w1+ x1 * y\n",
        "        w2= w2 + x2 * y\n",
        "        b = b + y\n",
        "        print(f'({x1:2}, {x2:2})\\t {y:2}\\t ({x1*y:2}, {x2*y:2}, {y:2})\\t\\t ({w1:2}, {w2:2}, {b:2})')"
      ]
    },
    {
      "cell_type": "code",
      "source": [
        "AND_samples = {\n",
        "    'binary_input_binary_output': [\n",
        "        [1,1,1],\n",
        "        [1,0,0],\n",
        "        [0,1,0],\n",
        "        [0,0,0]\n",
        "    ],\n",
        "    'binary_input_bipolar_output': [\n",
        "        [1,1,1],\n",
        "        [1,0,-1],\n",
        "        [0,1,0-1],\n",
        "        [0,0,-1]\n",
        "    ],\n",
        "\n",
        "\n",
        "    'bipolar_input_bipolar_output': [\n",
        "        [1,1,1],\n",
        "        [1,-1,-1],\n",
        "        [-1,1,-1],\n",
        "        [-1,-1,-1]\n",
        "    ]\n",
        "\n",
        "}\n",
        "\n",
        "OR_samples =  {\n",
        "        'binary_input_binary_output': [\n",
        "            [1, 1, 1],\n",
        "            [1, 0, 1],\n",
        "            [0, 1, 1],\n",
        "            [0, 0, 0]\n",
        "        ],\n",
        "        'binary_input_bipolar_output': [\n",
        "            [1, 1, 1],\n",
        "            [1, 0, 1],\n",
        "            [0, 1, 1],\n",
        "            [0, 0, -1]\n",
        "        ],\n",
        "        'bipolar_input_bipolar_output': [\n",
        "            [1, 1, 1],\n",
        "            [1, -1, 1],\n",
        "            [-1, 1, 1],\n",
        "            [-1, -1, -1]\n",
        "        ]\n",
        "    }\n",
        "\n",
        "XOR_samples =  {\n",
        "        'binary_input_binary_output': [\n",
        "            [1, 1, 0],\n",
        "            [1, 0, 1],\n",
        "            [0, 1, 1],\n",
        "            [0, 0, 0]\n",
        "        ],\n",
        "        'binary_input_bipolar_output': [\n",
        "            [1, 1, -1],\n",
        "            [1, 0, 1],\n",
        "            [0, 1, 1],\n",
        "            [0, 0, -1]\n",
        "        ],\n",
        "        'bipolar_input_bipolar_output': [\n",
        "            [1, 1, -1],\n",
        "            [1, -1, 1],\n",
        "            [-1, 1, 1],\n",
        "            [-1, -1, -1]\n",
        "        ]\n",
        "    }\n",
        "\n"
      ],
      "metadata": {
        "id": "avevn2FAAV7I"
      },
      "execution_count": null,
      "outputs": []
    },
    {
      "cell_type": "code",
      "source": [
        "hebbian_learning(AND_samples['binary_input_binary_output'])"
      ],
      "metadata": {
        "colab": {
          "base_uri": "https://localhost:8080/"
        },
        "id": "EOxZgOueCzb_",
        "outputId": "b2a0eb5c-928a-449a-da9e-e5cac4455c50"
      },
      "execution_count": null,
      "outputs": [
        {
          "output_type": "stream",
          "name": "stdout",
          "text": [
            " INPUT        TARGET     WEIGHT CHANGES           WEIGHTS           \n",
            " ( 0,  0,  0)\n",
            "( 1,  1)\t  1\t ( 1,  1,  1)\t\t ( 1,  1,  1)\n",
            "( 1,  0)\t  0\t ( 0,  0,  0)\t\t ( 1,  1,  1)\n",
            "( 0,  1)\t  0\t ( 0,  0,  0)\t\t ( 1,  1,  1)\n",
            "( 0,  0)\t  0\t ( 0,  0,  0)\t\t ( 1,  1,  1)\n"
          ]
        }
      ]
    },
    {
      "cell_type": "code",
      "source": [
        "hebbian_learning(AND_samples['binary_input_bipolar_output'])"
      ],
      "metadata": {
        "colab": {
          "base_uri": "https://localhost:8080/"
        },
        "id": "n1wo_3kxDHld",
        "outputId": "03b3bf03-33a8-4676-ae37-30b51885bbce"
      },
      "execution_count": null,
      "outputs": [
        {
          "output_type": "stream",
          "name": "stdout",
          "text": [
            " INPUT        TARGET     WEIGHT CHANGES           WEIGHTS           \n",
            " ( 0,  0,  0)\n",
            "( 1,  1)\t  1\t ( 1,  1,  1)\t\t ( 1,  1,  1)\n",
            "( 1,  0)\t -1\t (-1,  0, -1)\t\t ( 0,  1,  0)\n",
            "( 0,  1)\t -1\t ( 0, -1, -1)\t\t ( 0,  0, -1)\n",
            "( 0,  0)\t -1\t ( 0,  0, -1)\t\t ( 0,  0, -2)\n"
          ]
        }
      ]
    },
    {
      "cell_type": "code",
      "source": [
        "hebbian_learning(AND_samples['bipolar_input_bipolar_output'])"
      ],
      "metadata": {
        "colab": {
          "base_uri": "https://localhost:8080/"
        },
        "id": "qe2mIQH2DNp-",
        "outputId": "e2ad2d75-b94e-4023-9b27-ce0ed1936ad9"
      },
      "execution_count": null,
      "outputs": [
        {
          "output_type": "stream",
          "name": "stdout",
          "text": [
            " INPUT        TARGET     WEIGHT CHANGES           WEIGHTS           \n",
            " ( 0,  0,  0)\n",
            "( 1,  1)\t  1\t ( 1,  1,  1)\t\t ( 1,  1,  1)\n",
            "( 1, -1)\t -1\t (-1,  1, -1)\t\t ( 0,  2,  0)\n",
            "(-1,  1)\t -1\t ( 1, -1, -1)\t\t ( 1,  1, -1)\n",
            "(-1, -1)\t -1\t ( 1,  1, -1)\t\t ( 2,  2, -2)\n"
          ]
        }
      ]
    },
    {
      "cell_type": "code",
      "source": [
        "hebbian_learning(OR_samples['binary_input_binary_output'])"
      ],
      "metadata": {
        "colab": {
          "base_uri": "https://localhost:8080/"
        },
        "id": "1txx0pxUDTiW",
        "outputId": "0b4faf26-f7f1-42dc-ea9a-4511a41cf9b4"
      },
      "execution_count": null,
      "outputs": [
        {
          "output_type": "stream",
          "name": "stdout",
          "text": [
            " INPUT        TARGET     WEIGHT CHANGES           WEIGHTS           \n",
            " ( 0,  0,  0)\n",
            "( 1,  1)\t  1\t ( 1,  1,  1)\t\t ( 1,  1,  1)\n",
            "( 1,  0)\t  1\t ( 1,  0,  1)\t\t ( 2,  1,  2)\n",
            "( 0,  1)\t  1\t ( 0,  1,  1)\t\t ( 2,  2,  3)\n",
            "( 0,  0)\t  0\t ( 0,  0,  0)\t\t ( 2,  2,  3)\n"
          ]
        }
      ]
    },
    {
      "cell_type": "code",
      "source": [
        "hebbian_learning(OR_samples['binary_input_bipolar_output'])"
      ],
      "metadata": {
        "colab": {
          "base_uri": "https://localhost:8080/"
        },
        "id": "-rQH7-DlDZ1d",
        "outputId": "99bc4eaa-a9e9-4681-b223-cc85bb7964e5"
      },
      "execution_count": null,
      "outputs": [
        {
          "output_type": "stream",
          "name": "stdout",
          "text": [
            " INPUT        TARGET     WEIGHT CHANGES           WEIGHTS           \n",
            " ( 0,  0,  0)\n",
            "( 1,  1)\t  1\t ( 1,  1,  1)\t\t ( 1,  1,  1)\n",
            "( 1,  0)\t  1\t ( 1,  0,  1)\t\t ( 2,  1,  2)\n",
            "( 0,  1)\t  1\t ( 0,  1,  1)\t\t ( 2,  2,  3)\n",
            "( 0,  0)\t -1\t ( 0,  0, -1)\t\t ( 2,  2,  2)\n"
          ]
        }
      ]
    },
    {
      "cell_type": "code",
      "source": [
        "hebbian_learning(OR_samples['bipolar_input_bipolar_output'])"
      ],
      "metadata": {
        "colab": {
          "base_uri": "https://localhost:8080/"
        },
        "id": "DKYOhFdKDc8d",
        "outputId": "10ed0775-1906-46b4-e3ae-a1dbee7e7db0"
      },
      "execution_count": null,
      "outputs": [
        {
          "output_type": "stream",
          "name": "stdout",
          "text": [
            " INPUT        TARGET     WEIGHT CHANGES           WEIGHTS           \n",
            " ( 0,  0,  0)\n",
            "( 1,  1)\t  1\t ( 1,  1,  1)\t\t ( 1,  1,  1)\n",
            "( 1, -1)\t  1\t ( 1, -1,  1)\t\t ( 2,  0,  2)\n",
            "(-1,  1)\t  1\t (-1,  1,  1)\t\t ( 1,  1,  3)\n",
            "(-1, -1)\t -1\t ( 1,  1, -1)\t\t ( 2,  2,  2)\n"
          ]
        }
      ]
    },
    {
      "cell_type": "code",
      "source": [
        "hebbian_learning(XOR_samples['binary_input_binary_output'])"
      ],
      "metadata": {
        "colab": {
          "base_uri": "https://localhost:8080/"
        },
        "id": "N1U4MqhiDgM2",
        "outputId": "7c4a59e9-6da9-4a43-f7b9-bb3e2b09003f"
      },
      "execution_count": null,
      "outputs": [
        {
          "output_type": "stream",
          "name": "stdout",
          "text": [
            " INPUT        TARGET     WEIGHT CHANGES           WEIGHTS           \n",
            " ( 0,  0,  0)\n",
            "( 1,  1)\t  0\t ( 0,  0,  0)\t\t ( 0,  0,  0)\n",
            "( 1,  0)\t  1\t ( 1,  0,  1)\t\t ( 1,  0,  1)\n",
            "( 0,  1)\t  1\t ( 0,  1,  1)\t\t ( 1,  1,  2)\n",
            "( 0,  0)\t  0\t ( 0,  0,  0)\t\t ( 1,  1,  2)\n"
          ]
        }
      ]
    },
    {
      "cell_type": "code",
      "source": [
        "hebbian_learning(XOR_samples['binary_input_bipolar_output'])"
      ],
      "metadata": {
        "colab": {
          "base_uri": "https://localhost:8080/"
        },
        "id": "BOjpf15PDn1F",
        "outputId": "0cbd9e86-c1b8-4230-b29d-5cd8ded0195f"
      },
      "execution_count": null,
      "outputs": [
        {
          "output_type": "stream",
          "name": "stdout",
          "text": [
            " INPUT        TARGET     WEIGHT CHANGES           WEIGHTS           \n",
            " ( 0,  0,  0)\n",
            "( 1,  1)\t -1\t (-1, -1, -1)\t\t (-1, -1, -1)\n",
            "( 1,  0)\t  1\t ( 1,  0,  1)\t\t ( 0, -1,  0)\n",
            "( 0,  1)\t  1\t ( 0,  1,  1)\t\t ( 0,  0,  1)\n",
            "( 0,  0)\t -1\t ( 0,  0, -1)\t\t ( 0,  0,  0)\n"
          ]
        }
      ]
    },
    {
      "cell_type": "code",
      "source": [
        "hebbian_learning(XOR_samples['bipolar_input_bipolar_output'])"
      ],
      "metadata": {
        "colab": {
          "base_uri": "https://localhost:8080/"
        },
        "id": "Bzfq6w0GDpl9",
        "outputId": "55d7f9a7-5d05-4673-a651-993ef7ac9683"
      },
      "execution_count": null,
      "outputs": [
        {
          "output_type": "stream",
          "name": "stdout",
          "text": [
            " INPUT        TARGET     WEIGHT CHANGES           WEIGHTS           \n",
            " ( 0,  0,  0)\n",
            "( 1,  1)\t -1\t (-1, -1, -1)\t\t (-1, -1, -1)\n",
            "( 1, -1)\t  1\t ( 1, -1,  1)\t\t ( 0, -2,  0)\n",
            "(-1,  1)\t  1\t (-1,  1,  1)\t\t (-1, -1,  1)\n",
            "(-1, -1)\t -1\t ( 1,  1, -1)\t\t ( 0,  0,  0)\n"
          ]
        }
      ]
    },
    {
      "cell_type": "code",
      "source": [],
      "metadata": {
        "id": "S84d_HqgDvt9"
      },
      "execution_count": null,
      "outputs": []
    }
  ]
}