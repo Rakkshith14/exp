{
  "nbformat": 4,
  "nbformat_minor": 0,
  "metadata": {
    "colab": {
      "provenance": []
    },
    "kernelspec": {
      "name": "python3",
      "display_name": "Python 3"
    },
    "language_info": {
      "name": "python"
    }
  },
  "cells": [
    {
      "cell_type": "code",
      "execution_count": null,
      "metadata": {
        "id": "CVbmSYEMASZO"
      },
      "outputs": [],
      "source": [
        "import numpy as np"
      ]
    },
    {
      "cell_type": "code",
      "source": [
        "x1 = np.array([1.0,1.0,0.0,0.0])\n",
        "x2= np.array([1.0,0.0,1.0,0.0])"
      ],
      "metadata": {
        "id": "749C-TDGB8MH"
      },
      "execution_count": null,
      "outputs": []
    },
    {
      "cell_type": "code",
      "source": [
        "epochs = 0;\n",
        "w1 = np.array(float(input(\"Enter the weight 1: \")))\n",
        "w2 = np.array(float(input(\"Enter the weight 2: \")))\n",
        "b = float(input(\"Enter the bias:\"))\n",
        "learning_rate = 0.1\n",
        "\n",
        "y = np.array([float(i) for i in input(\"Enter expected output:\").split()])\n",
        "\n",
        "while True:\n",
        "  z = (w1*x1) + (w2*x2) + b\n",
        "\n",
        "  output = np.where(y >= b, 1, 0)\n",
        "\n",
        "  error = y - output\n",
        "\n",
        "  print(f\"Epochs: {epochs} Error = {error}\")\n",
        "\n",
        "  if np.array_equal(output, y):\n",
        "    print(\"training complete !\")\n",
        "    break\n",
        "\n",
        "  w1 += learning_rate * np.dot(error, x1)\n",
        "  w2 += learning_rate * np.dot(error, x2)\n",
        "  b += learning_rate * np.sum(error)\n",
        "\n",
        "  epochs += 1\n",
        "\n",
        "print(f\"Final weights: w1 = {w1}, w2 = {w2}, b = {b}\")\n",
        "print(f\"Final output: {output}\")\n",
        "\n"
      ],
      "metadata": {
        "colab": {
          "base_uri": "https://localhost:8080/"
        },
        "id": "xaC2ZnisE_3H",
        "outputId": "4065a52b-ea86-4541-fd21-abf2441f6df5"
      },
      "execution_count": null,
      "outputs": [
        {
          "output_type": "stream",
          "name": "stdout",
          "text": [
            "Enter the weight 1: 0.2\n",
            "Enter the weight 2: 0.2\n",
            "Enter the bias:0.5\n",
            "Enter expected output:1 1 1 0\n",
            "Epochs: 0 Error = [0. 0. 0. 0.]\n",
            "training complete !\n",
            "Final weights: w1 = 0.2, w2 = 0.2, b = 0.5\n",
            "Final output: [1 1 1 0]\n"
          ]
        }
      ]
    }
  ]
}