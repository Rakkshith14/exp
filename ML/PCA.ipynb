{
  "nbformat": 4,
  "nbformat_minor": 0,
  "metadata": {
    "colab": {
      "provenance": []
    },
    "kernelspec": {
      "name": "python3",
      "display_name": "Python 3"
    },
    "language_info": {
      "name": "python"
    }
  },
  "cells": [
    {
      "cell_type": "code",
      "source": [
        "import numpy as np\n",
        "\n",
        "class PCA:\n",
        "    def __init__(self, n_components):\n",
        "        self.n_components = n_components\n",
        "        self.components = None\n",
        "        self.mean = None\n",
        "        self.explained_variance = None\n",
        "\n",
        "    def fit(self, X):\n",
        "        # Convert input to numpy array\n",
        "        X = np.array(X)\n",
        "\n",
        "        # Calculate mean and center the data\n",
        "        self.mean = np.mean(X, axis=0)\n",
        "        X_centered = X - self.mean\n",
        "\n",
        "        # Calculate covariance matrix\n",
        "        covariance_matrix = np.cov(X_centered.T)  # Fixed: use .T for transpose\n",
        "\n",
        "        # Compute eigenvalues and eigenvectors\n",
        "        eigenvalues, eigenvectors = np.linalg.eig(covariance_matrix)\n",
        "\n",
        "        # Sort eigenvalues and eigenvectors in descending order\n",
        "        sorted_indices = np.argsort(eigenvalues)[::-1]\n",
        "        sorted_eigenvalues = eigenvalues[sorted_indices]\n",
        "        sorted_eigenvectors = eigenvectors[:, sorted_indices]\n",
        "\n",
        "        # Store the top n_components eigenvectors\n",
        "        self.components = sorted_eigenvectors[:, :self.n_components]\n",
        "\n",
        "        # Store explained variance\n",
        "        total_variance = np.sum(sorted_eigenvalues)\n",
        "        self.explained_variance = sorted_eigenvalues[:self.n_components] / total_variance\n",
        "\n",
        "    def transform(self, X):\n",
        "        # Center the data using the stored mean\n",
        "        X_centered = np.array(X) - self.mean\n",
        "\n",
        "        # Project data onto principal components\n",
        "        X_transformed = np.dot(X_centered, self.components)\n",
        "\n",
        "        return X_transformed\n",
        "\n",
        "    def fit_transform(self, X):\n",
        "        self.fit(X)\n",
        "        return self.transform(X)\n",
        "\n",
        "if __name__ == \"__main__\":\n",
        "    # Example data from the screenshot\n",
        "    X = np.array([\n",
        "        [4, 8, 13, 7],\n",
        "        [11, 4, 5, 14],\n",
        "        [2, 9, 19, 5],\n",
        "        [7, 6, 10, 8]\n",
        "    ])\n",
        "\n",
        "    print(\"Original data:\")\n",
        "    print(X)\n",
        "\n",
        "    # Create PCA instance with 2 components\n",
        "    pca = PCA(n_components=2)\n",
        "\n",
        "    # Fit PCA to the data\n",
        "    pca.fit(X)\n",
        "\n",
        "    # Transform the data\n",
        "    X_transformed = pca.transform(X)\n",
        "\n",
        "    print(\"\\nTransformed data (2 principal components):\")\n",
        "    print(X_transformed)\n",
        "\n",
        "    print(\"\\nExplained variance ratio:\")\n",
        "    print(pca.explained_variance)"
      ],
      "metadata": {
        "id": "71EKfpaXMsvh",
        "colab": {
          "base_uri": "https://localhost:8080/"
        },
        "outputId": "9d78f485-ee4b-4561-a560-c8fbfc4f4ec8"
      },
      "execution_count": null,
      "outputs": [
        {
          "output_type": "stream",
          "name": "stdout",
          "text": [
            "Original data:\n",
            "[[ 4  8 13  7]\n",
            " [11  4  5 14]\n",
            " [ 2  9 19  5]\n",
            " [ 7  6 10  8]]\n",
            "\n",
            "Transformed data (2 principal components):\n",
            "[[  2.84441537  -0.75505896]\n",
            " [-10.36625221   0.9522929 ]\n",
            " [  9.20024675   1.0744314 ]\n",
            " [ -1.6784099   -1.27166533]]\n",
            "\n",
            "Explained variance ratio:\n",
            "[0.97367618 0.02037655]\n"
          ]
        }
      ]
    }
  ]
}