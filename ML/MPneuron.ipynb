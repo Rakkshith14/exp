{
  "nbformat": 4,
  "nbformat_minor": 0,
  "metadata": {
    "colab": {
      "provenance": []
    },
    "kernelspec": {
      "name": "python3",
      "display_name": "Python 3"
    },
    "language_info": {
      "name": "python"
    }
  },
  "cells": [
    {
      "cell_type": "code",
      "source": [
        "import numpy as np\n"
      ],
      "metadata": {
        "id": "qF-Yr4W1HCmv"
      },
      "execution_count": null,
      "outputs": []
    },
    {
      "cell_type": "code",
      "execution_count": null,
      "metadata": {
        "id": "p1lZjr1oD9O6"
      },
      "outputs": [],
      "source": [
        "x1 = np.array([1,1,0,0])\n",
        "x2= np.array([1,0,1,0])\n",
        "AND_t = np.array([1,0,0,0])\n",
        "OR_t = np.array([1,1,1,0])\n",
        "XOR_t = np.array([0,1,1,0])"
      ]
    },
    {
      "cell_type": "code",
      "source": [
        "def mp_neuron(t):\n",
        "\n",
        "\n",
        "  w1 = float(input(\" enter the weight for x1: \"))\n",
        "  w2 = float(input(\" enter the weight for x2: \"))\n",
        "  threshold = float(input(\" enter the threshold: \"))\n",
        "\n",
        "\n",
        "  y = (x1 * w1) + (x2 * w2)\n",
        "\n",
        "  output = (y >= threshold).astype(int)\n",
        "\n",
        "  # expected_output = np.array([int(i) for i in input(\"enter expected output\").split()])\n",
        "\n",
        "  expected_output = np.array(t)\n",
        "\n",
        "\n",
        "  print(\"calculate Output\", output)\n",
        "  print(\"expected output\", t)\n",
        "  if np.array_equal(output, expected_output):\n",
        "    print(\"correct\")\n",
        "  else:\n",
        "    print(\"incorrect\")\n",
        "\n",
        "\n"
      ],
      "metadata": {
        "id": "ucjc0FyiGl-4"
      },
      "execution_count": null,
      "outputs": []
    },
    {
      "cell_type": "code",
      "source": [
        "mp_neuron(OR_t)"
      ],
      "metadata": {
        "colab": {
          "base_uri": "https://localhost:8080/"
        },
        "id": "j2q32XMEJjQH",
        "outputId": "2cd41893-3bd8-4867-c9b1-be6ee2882cd6"
      },
      "execution_count": null,
      "outputs": [
        {
          "output_type": "stream",
          "name": "stdout",
          "text": [
            " enter the weight for x1: 0.6\n",
            " enter the weight for x2: 1.2\n",
            " enter the threshold: 0.7\n",
            "calculate Output [1 0 1 0]\n",
            "expected output [1 1 1 0]\n",
            "incorrect\n"
          ]
        }
      ]
    },
    {
      "cell_type": "code",
      "source": [],
      "metadata": {
        "id": "Wl4cA4-eJ-CG"
      },
      "execution_count": null,
      "outputs": []
    }
  ]
}