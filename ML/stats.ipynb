{
  "nbformat": 4,
  "nbformat_minor": 0,
  "metadata": {
    "colab": {
      "provenance": []
    },
    "kernelspec": {
      "name": "python3",
      "display_name": "Python 3"
    },
    "language_info": {
      "name": "python"
    }
  },
  "cells": [
    {
      "cell_type": "code",
      "execution_count": null,
      "metadata": {
        "colab": {
          "base_uri": "https://localhost:8080/"
        },
        "id": "pcZthUk0L7IS",
        "outputId": "a5b1ce9b-f4d7-433e-9aac-10430d4c91b1"
      },
      "outputs": [
        {
          "output_type": "stream",
          "name": "stdout",
          "text": [
            "[[7 4 2]\n",
            " [7 3 7]\n",
            " [9 4 2]]\n",
            "Mean: 5.00\n",
            "Median: 4.00\n",
            "Standard Deviation: 2.40\n",
            "Eigenvalues:\n",
            " [14.48746769+0.j         -1.24373384+1.22075135j -1.24373384-1.22075135j]\n",
            "Eigenvectors:\n",
            " [[ 0.50046595+0.j          0.36410409+0.11967444j  0.36410409-0.11967444j]\n",
            " [ 0.65202793+0.j         -0.8679669 +0.j         -0.8679669 -0.j        ]\n",
            " [ 0.56955545+0.j          0.16209884-0.27104183j  0.16209884+0.27104183j]]\n"
          ]
        }
      ],
      "source": [
        "import numpy as np\n",
        "\n",
        "\n",
        "def matrix_operations(rows, cols):\n",
        "\n",
        "    matrix = np.random.randint(1, 11, size=(rows, cols))\n",
        "    print(matrix)\n",
        "\n",
        "\n",
        "    mean_value = np.mean(matrix)\n",
        "    median_value = np.median(matrix)\n",
        "    std_dev = np.std(matrix)\n",
        "\n",
        "\n",
        "    print(f\"Mean: {mean_value:.2f}\")\n",
        "    print(f\"Median: {median_value:.2f}\")\n",
        "    print(f\"Standard Deviation: {std_dev:.2f}\")\n",
        "\n",
        "\n",
        "    if rows == cols:\n",
        "        eigenvalues, eigenvectors = np.linalg.eig(matrix)\n",
        "        print(\"Eigenvalues:\\n\", eigenvalues)\n",
        "        print(\"Eigenvectors:\\n\", eigenvectors)\n",
        "    else:\n",
        "        print(\"\\nEigenvalues & Eigenvectors can only be computed for square matrices.\")\n",
        "\n",
        "\n",
        "rows, cols = 3, 3\n",
        "matrix_operations(rows, cols)\n"
      ]
    }
  ]
}



# https://www.onlinegdb.com/yTF0pcZpw
