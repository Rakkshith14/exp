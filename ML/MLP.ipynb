{
  "nbformat": 4,
  "nbformat_minor": 0,
  "metadata": {
    "colab": {
      "provenance": []
    },
    "kernelspec": {
      "name": "python3",
      "display_name": "Python 3"
    },
    "language_info": {
      "name": "python"
    }
  },
  "cells": [
    {
      "cell_type": "code",
      "execution_count": null,
      "metadata": {
        "colab": {
          "base_uri": "https://localhost:8080/"
        },
        "id": "ELsOvcaA3kfb",
        "outputId": "4867f0fe-7169-40f2-a4ca-f6eaef2a6358"
      },
      "outputs": [
        {
          "output_type": "stream",
          "name": "stdout",
          "text": [
            "Epoch 0, Loss: 0.2503\n",
            "Epoch 1000, Loss: 0.2500\n",
            "Epoch 2000, Loss: 0.2500\n",
            "Epoch 3000, Loss: 0.2500\n",
            "Epoch 4000, Loss: 0.2500\n",
            "Epoch 5000, Loss: 0.2500\n",
            "Epoch 6000, Loss: 0.2500\n",
            "Epoch 7000, Loss: 0.2500\n",
            "Epoch 8000, Loss: 0.2500\n",
            "Epoch 9000, Loss: 0.2500\n",
            "\n",
            "Predictions:\n",
            "Input: [0 0], Output: 0.5004 (expected: 0)\n",
            "Input: [0 1], Output: 0.4989 (expected: 1)\n",
            "Input: [1 0], Output: 0.5011 (expected: 1)\n",
            "Input: [1 1], Output: 0.4995 (expected: 0)\n"
          ]
        }
      ],
      "source": [
        "import numpy as np\n",
        "\n",
        "def sigmoid(x):\n",
        "    return 1 / (1 + np.exp(-x))\n",
        "\n",
        "def sigmoid_derivative(x):\n",
        "    return x * (1 - x)\n",
        "\n",
        "def initialize_weights(input_size, hidden_size, output_size):\n",
        "    W1 = np.random.randn(input_size, hidden_size) * 0.1\n",
        "    W2 = np.random.randn(hidden_size, output_size) * 0.1\n",
        "    b1 = np.zeros(hidden_size)\n",
        "    b2 = np.zeros(output_size)\n",
        "    return W1, W2, b1, b2\n",
        "\n",
        "def forward(X, W1, W2, b1, b2):\n",
        "    z1 = np.dot(X, W1) + b1\n",
        "    a1 = sigmoid(z1)\n",
        "    z2 = np.dot(a1, W2) + b2\n",
        "    a2 = sigmoid(z2)\n",
        "    return a1, a2\n",
        "\n",
        "def train(X, y, hidden_size=4, epochs=10000, lr=0.1):\n",
        "    W1, W2, b1, b2 = initialize_weights(X.shape[1], hidden_size, y.shape[1])\n",
        "\n",
        "    for epoch in range(epochs):\n",
        "        a1, a2 = forward(X, W1, W2, b1, b2)\n",
        "\n",
        "        error = a2 - y\n",
        "        d_output = error * sigmoid_derivative(a2)\n",
        "        d_W2 = np.dot(a1.T, d_output)\n",
        "        d_b2 = np.sum(d_output, axis=0)\n",
        "        d_hidden = np.dot(d_output, W2.T) * sigmoid_derivative(a1)\n",
        "        d_W1 = np.dot(X.T, d_hidden)\n",
        "        d_b1 = np.sum(d_hidden, axis=0)\n",
        "\n",
        "        W1 -= lr * d_W1\n",
        "        b1 -= lr * d_b1\n",
        "        W2 -= lr * d_W2\n",
        "        b2 -= lr * d_b2\n",
        "\n",
        "        if epoch % 1000 == 0:\n",
        "            loss = np.mean(np.square(y - a2))\n",
        "            print(f\"Epoch {epoch}, Loss: {loss:.4f}\")\n",
        "\n",
        "    return W1, W2, b1, b2\n",
        "\n",
        "def predict(X, W1, W2, b1, b2):\n",
        "    _, a2 = forward(X, W1, W2, b1, b2)\n",
        "    return a2\n",
        "\n",
        "X = np.array([[0, 0], [0, 1], [1, 0], [1, 1]])\n",
        "y = np.array([[0], [1], [1], [0]])\n",
        "\n",
        "W1, W2, b1, b2 = train(X, y)\n",
        "\n",
        "print(\"\\nPredictions:\")\n",
        "for i in range(len(X)):\n",
        "    pred = predict(X[i:i+1], W1, W2, b1, b2)[0][0]\n",
        "    print(f\"Input: {X[i]}, Output: {pred:.4f} (expected: {y[i][0]})\")"
      ]
    }
  ]
}