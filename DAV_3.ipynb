{
  "nbformat": 4,
  "nbformat_minor": 0,
  "metadata": {
    "colab": {
      "provenance": []
    },
    "kernelspec": {
      "name": "python3",
      "display_name": "Python 3"
    },
    "language_info": {
      "name": "python"
    }
  },
  "cells": [
    {
      "cell_type": "code",
      "execution_count": 2,
      "metadata": {
        "id": "h7ROkFXc2Ag4"
      },
      "outputs": [],
      "source": [
        "# Import necessary libraries\n",
        "import numpy as np\n",
        "import matplotlib.pyplot as plt\n",
        "from sklearn.linear_model import LinearRegression\n",
        "\n",
        "# Example data: Hours studied vs. Marks scored\n",
        "hours = np.array([1, 2, 3, 4, 5, 6, 7, 8, 9]).reshape(-1, 1)  # Feature (X)\n",
        "marks = np.array([35, 40, 50, 55, 65, 70, 75, 80, 85])       # Target (Y)\n",
        "\n",
        "# Create and train the model\n",
        "model = LinearRegression()\n",
        "model.fit(hours, marks)\n",
        "\n",
        "# Predict using the model\n",
        "predicted_marks = model.predict(hours)\n",
        "\n",
        "# Print model coefficients\n",
        "print(\"Slope (m):\", model.coef_[0])\n",
        "print(\"Intercept (b):\", model.intercept_)\n",
        "\n",
        "# Plotting the regression line\n",
        "plt.scatter(hours, marks, color='blue', label='Actual Marks')\n",
        "plt.plot(hours, predicted_marks, color='red', label='Regression Line')\n",
        "plt.title(\"Simple Linear Regression: Hours vs Marks\")\n",
        "plt.xlabel(\"Hours Studied\")\n",
        "plt.ylabel(\"Marks Scored\")\n",
        "plt.legend()\n",
        "plt.grid(True)\n",
        "plt.show()"
      ]
    },
    {
      "cell_type": "code",
      "source": [
        "# Import necessary libraries\n",
        "import numpy as np\n",
        "from sklearn.linear_model import LinearRegression\n",
        "\n",
        "# Example input data: [English, Science, History]\n",
        "X = np.array([\n",
        "    [70, 90, 74],\n",
        "    [60, 85, 65],\n",
        "    [80, 88, 78],\n",
        "    [90, 95, 82],\n",
        "    [75, 80, 72]\n",
        "])\n",
        "\n",
        "# Target: Final marks (e.g., overall performance or a math score)\n",
        "y = np.array([80, 70, 85, 95, 78])  # Just example values\n",
        "\n",
        "# Create and train the model\n",
        "model = LinearRegression()\n",
        "model.fit(X, y)\n",
        "\n",
        "# Print model coefficients and intercept\n",
        "print(\"Coefficients:\", model.coef_)\n",
        "print(\"Intercept:\", model.intercept_)\n",
        "\n",
        "# Predicting for a new student\n",
        "new_student = np.array([[70, 90, 74]])  # English, Science, History\n",
        "predicted_score = model.predict(new_student)\n",
        "print(\"Predicted Final Score:\", predicted_score[0])"
      ],
      "metadata": {
        "id": "4XB2c7Ju5FKX"
      },
      "execution_count": 2,
      "outputs": []
    },
    {
      "cell_type": "code",
      "source": [
        "import pandas as pd\n",
        "import numpy as np\n",
        "import matplotlib.pyplot as plt\n",
        "from sklearn.linear_model import LinearRegression\n",
        "from sklearn.metrics import mean_squared_error, r2_score\n",
        "\n",
        "df = pd.read_csv(\"/content/sample_data/california_housing_train.csv\")\n",
        "df = df.head(100)\n",
        "\n",
        "X = df['AveRooms'].values.reshape(-1, 1)\n",
        "y = df['HouseAge'].values.reshape(-1, 1)\n",
        "\n",
        "model = LinearRegression()\n",
        "model.fit(X, y)\n",
        "y_pred = model.predict(X)\n",
        "\n",
        "plt.scatter(X, y, color='blue', label='Actual')\n",
        "plt.plot(X, y_pred, color='red', linewidth=2, label='Predicted')\n",
        "plt.xlabel(\"Average Rooms\")\n",
        "plt.ylabel(\"House Age\")\n",
        "plt.title(\"Linear Regression: Average Rooms vs House Age\")\n",
        "plt.legend()\n",
        "plt.show()\n",
        "\n",
        "mse = mean_squared_error(y, y_pred)\n",
        "r2 = r2_score(y, y_pred)\n",
        "\n",
        "print(\"Mean Squared Error:\", mse)\n",
        "print(\"R2 Score:\", r2)\n"
      ],
      "metadata": {
        "id": "vXcECHC_5L1h"
      },
      "execution_count": null,
      "outputs": []
    },
    {
      "cell_type": "code",
      "source": [
        "import pandas as pd\n",
        "import numpy as np\n",
        "import matplotlib.pyplot as plt\n",
        "from sklearn.linear_model import LogisticRegression\n",
        "from sklearn.model_selection import train_test_split\n",
        "from sklearn.metrics import classification_report, confusion_matrix\n",
        "\n",
        "df = pd.read_csv('/content/sample_data/california_housing_train.csv')\n",
        "df = df.head(100)\n",
        "\n",
        "df['HighAveRooms'] = (df['AveRooms'] > df['AveRooms'].mean()).astype(int)\n",
        "\n",
        "X = df[['HouseAge']]\n",
        "y = df['HighAveRooms']\n",
        "\n",
        "X_train, X_test, y_train, y_test = train_test_split(X, y, test_size=0.2, random_state=42)\n",
        "\n",
        "model = LogisticRegression()\n",
        "model.fit(X_train, y_train)\n",
        "\n",
        "y_pred = model.predict(X_test)\n",
        "\n",
        "print(confusion_matrix(y_test, y_pred))\n",
        "print(classification_report(y_test, y_pred))\n",
        "\n",
        "plt.scatter(X, y, color='blue', label='Data')\n",
        "plt.plot(X, model.predict_proba(X)[:,1], color='red', label='Logistic Regression Curve')\n",
        "plt.xlabel(\"House Age\")\n",
        "plt.ylabel(\"Probability of High Average Rooms\")\n",
        "plt.title(\"Logistic Regression\")\n",
        "plt.legend()\n",
        "plt.show()\n"
      ],
      "metadata": {
        "id": "dBgKS3MtAtsq"
      },
      "execution_count": null,
      "outputs": []
    },
    {
      "cell_type": "code",
      "source": [
        "import pandas as pd\n",
        "import matplotlib.pyplot as plt\n",
        "import seaborn as sns\n",
        "\n",
        "df = pd.read_csv(\"/content/sample_data/california_housing_train.csv\")\n",
        "df = df.head(100)\n",
        "\n",
        "corr = df.corr()\n",
        "\n",
        "plt.figure(figsize=(10, 8))\n",
        "sns.heatmap(corr, annot=True, cmap='coolwarm')\n",
        "plt.title(\"Correlation Heatmap\")\n",
        "plt.show()\n",
        "\n",
        "sns.pairplot(df[['AveRooms', 'HouseAge', 'AveOccup']])\n",
        "plt.suptitle(\"Pairplot of Selected Features\", y=1.02)\n",
        "plt.show()\n"
      ],
      "metadata": {
        "id": "Nc3D1mYNAwNm"
      },
      "execution_count": null,
      "outputs": []
    }
  ]
}